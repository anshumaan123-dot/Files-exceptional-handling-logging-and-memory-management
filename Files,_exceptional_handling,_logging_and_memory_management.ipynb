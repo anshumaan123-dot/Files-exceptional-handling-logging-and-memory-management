{
  "nbformat": 4,
  "nbformat_minor": 0,
  "metadata": {
    "colab": {
      "provenance": []
    },
    "kernelspec": {
      "name": "python3",
      "display_name": "Python 3"
    },
    "language_info": {
      "name": "python"
    }
  },
  "cells": [
    {
      "cell_type": "markdown",
      "source": [
        "#Files, exceptional handling, logging and memory management"
      ],
      "metadata": {
        "id": "SunqgFwqNgDP"
      }
    },
    {
      "cell_type": "markdown",
      "source": [
        "1. What is the difference between interpreted and compiled languages?\n",
        "- Interpreted languages are easier for quick development and testing.\n",
        "- Compiled languages are more efficient for performance-critical applications.\n",
        "\n",
        "2. What is exception handling in Python?\n",
        "- Exception handling in Python is a mechanism to gracefully deal with errors that occur during the execution of a program.\n",
        "- Instead of crashing the program, Python allows you to catch and handle these errors using specific blocks of code.\n",
        "\n",
        "3. What is the purpose of the finally block in exception handling?\n",
        "- The \"finally\" block in Python is used to define a section of code that always executes, regardless of whether an exception was raised or not.\n",
        "\n",
        "4. What is logging in Python?\n",
        "- Logging in Python is a way to track events that happen during program execution. It helps in Debug issues, Monitor program behavior, Record errors and warnings, Save information for later analysis.\n",
        "\n",
        "5. What is the significance of the __del__ method in Python?\n",
        "- The \"__del__\" method is a special method in Python, also known as a destructor. It is called automatically when an object is about to be destroyed, usually when its reference count drops to zero (i.e., no more references to it exist).\n",
        "\n",
        "6.  What is the difference between import and from ... import in Python?\n",
        "- 1. import module Imports the entire module. You must use the module name to access any function, class, or variable from it.\n",
        "- 2. from module import name Imports a specific function, class, or variable from a module. You can use it directly without the module name.\n",
        "\n",
        "7. How can you handle multiple exceptions in Python?\n",
        " 1. Using a Tuple in a Single except Block\n",
        " 2. Using Multiple except Blocks\n",
        " 3. Catching All Exceptions\n",
        "\n",
        "8. What is the purpose of the with statement when handling files in Python?\n",
        "- The with statement in Python is used to simplify file handling and ensure that resources like files are automatically closed, even if an error occurs during file operations.\n",
        "\n",
        "9. What is the difference between multithreading and multiprocessing?\n",
        "- Both multithreading and multiprocessing allow concurrent execution, but they differ in how they handle tasks and use system resources.\n",
        "\n",
        "10. What are the advantages of using logging in a program?\n",
        " 1. Tracks and Records Events\n",
        " 2. Provides Logging Levels\n",
        " 3. Flexible Output Options\n",
        " 4. Non-Intrusive\n",
        " 5. Helps in Maintenance and Monitoring\n",
        "\n",
        "11. What is memory management in Python?\n",
        "- Memory management in Python refers to how the language allocates, uses, and frees memory during the execution of a program.\n",
        "\n",
        "12. What are the basic steps involved in exception handling in Python?\n",
        " 1. Write code inside a try block\n",
        " 2. Handle exceptions using one or more except blocks\n",
        " 3. Optionally use an else block\n",
        " 4. Optionally use a finally block\n",
        "\n",
        "13. Why is memory management important in Python?\n",
        " 1. Efficient Resource Utilization\n",
        " 2. Prevents Memory Leaks\n",
        " 3. Improves Performance\n",
        " 4. Supports Dynamic Typing and Object Creation\n",
        " 5. Ensures Stability and Reliability\n",
        "\n",
        "14. What is the role of try and except in exception handling?\n",
        "- try Block contains the code that might raise an exception.\n",
        "- except Block catches and handles the exception raised in the try block.\n",
        "\n",
        "15. How does Python's garbage collection system work?\n",
        "- Python’s garbage collection (GC) is an automatic process that frees memory occupied by objects that are no longer needed by the program.\n",
        "\n",
        "16. What is the purpose of the else block in exception handling?\n",
        "- The code inside the else block runs only if no exception was raised in the try block. It is useful for code that should run only when the try block succeeds without errors.\n",
        "\n",
        "17. What are the common logging levels in Python?\n",
        "- Python’s logging module defines several standard logging levels to categorize the importance or severity of log messages. These levels help filter and manage log output effectively DEBUG, INFO, WARNING, ERROR, CRITICAL.\n",
        "\n",
        "18. What is the difference between os.fork() and multiprocessing in Python?\n",
        "- os.fork() is a low-level Unix system call that duplicates the current process.\n",
        "- multiprocessing is a high-level Python module that abstracts process creation and communication and works cross-platform.\n",
        "\n",
        "19. What is the importance of closing a file in Python?\n",
        " 1. Frees System Resources\n",
        " 2. Ensures Data Is Written (Flushes Buffers)\n",
        " 3. Prevents Data Corruption\n",
        " 4. Avoids Unexpected Behavior\n",
        "\n",
        "20. What is the difference between file.read() and file.readline() in Python?\n",
        "- Use read() when you want to load the whole file at once.\n",
        "- Use readline() when you want to process the file line-by-line, especially useful for large files to save memory.\n",
        "\n",
        "21. What is the logging module in Python used for?\n",
        "- The logging module in Python is used to record (log) messages that provide insight into the execution of a program. It helps developers track events, debug issues, and monitor the application’s behavior.\n",
        "\n",
        "22. What is the os module in Python used for in file handling?\n",
        "- The os module in Python provides a way to interact with the operating system and perform file and directory operations that go beyond simple reading and writing. It offers functions to manage files and directories at a system level.\n",
        "\n",
        "23. What are the challenges associated with memory management in Python?\n",
        "- Reference cycles : Cyclic references causing memory leaks\n",
        "- Memory overhead\t: Python objects have extra metadata memory\n",
        "- Fragmentation\t: Inefficient memory usage over time\n",
        "- Delayed garbage collection\t: Memory freed only during periodic GC runs\n",
        "- GIL limitations\t: Limits concurrency, affecting resource use\n",
        "- Manual resource cleanup\t: Need explicit management of some resources\n",
        "- Extension leaks\t: External code may leak memory beyond Python’s control\n",
        "\n",
        "24. How do you raise an exception manually in Python?\n",
        "- In Python, you can manually raise an exception using the raise keyword. This is useful when you want to trigger an error intentionally — for example, to enforce input validation or custom error handling.\n",
        "\n",
        "25. Why is it important to use multithreading in certain applications?\n",
        "- Multithreading is important in specific scenarios where a program needs to perform multiple tasks simultaneously or remain responsive while doing background work.\n"
      ],
      "metadata": {
        "id": "tWjRXSoeV6Pb"
      }
    },
    {
      "cell_type": "markdown",
      "source": [
        "#PRACTICAL QUESTIONS"
      ],
      "metadata": {
        "id": "y8pji0Qwun-K"
      }
    },
    {
      "cell_type": "code",
      "execution_count": 11,
      "metadata": {
        "id": "a4icn37JNTzE",
        "colab": {
          "base_uri": "https://localhost:8080/"
        },
        "outputId": "5f27ec99-fb57-4b0e-d632-2c8dbe3e7c6e"
      },
      "outputs": [
        {
          "output_type": "stream",
          "name": "stdout",
          "text": [
            "String successfully written to example.txt\n"
          ]
        }
      ],
      "source": [
        "#1. How can you open a file for writing in Python and write a string to it\n",
        "\n",
        "# Open the file in write mode ('w')\n",
        "with open(\"example.txt\", \"w\") as file:\n",
        "    # Write a string to the file\n",
        "    file.write(\"Hello, this is a line written to the file!\")\n",
        "print(\"String successfully written to example.txt\")"
      ]
    },
    {
      "cell_type": "code",
      "source": [
        "#2. Write a Python program to read the contents of a file and print each line\n",
        "\n",
        "# Open the file in read mode\n",
        "with open(\"example.txt\", \"r\") as file:\n",
        "    # Loop through each line in the file\n",
        "    for line in file:\n",
        "        print(line, end='')  # end='' avoids double newlines"
      ],
      "metadata": {
        "colab": {
          "base_uri": "https://localhost:8080/"
        },
        "id": "thlEzyCYvDIg",
        "outputId": "7fe20326-f52c-4f1c-e139-38d31ddb875e"
      },
      "execution_count": 12,
      "outputs": [
        {
          "output_type": "stream",
          "name": "stdout",
          "text": [
            "Hello, this is a line written to the file!"
          ]
        }
      ]
    },
    {
      "cell_type": "code",
      "source": [
        "#3. How would you handle a case where the file doesn't exist while trying to open it for reading\n",
        "\n",
        "try:\n",
        "    with open(\"nonexistent_file.txt\", \"r\") as file:\n",
        "        content = file.read()\n",
        "        print(content)\n",
        "except FileNotFoundError:\n",
        "    print(\"Error: The file does not exist.\")"
      ],
      "metadata": {
        "colab": {
          "base_uri": "https://localhost:8080/"
        },
        "id": "Ek1jCG-jvLhJ",
        "outputId": "3685c227-67c8-4660-d9cf-eb8f005347cb"
      },
      "execution_count": 13,
      "outputs": [
        {
          "output_type": "stream",
          "name": "stdout",
          "text": [
            "Error: The file does not exist.\n"
          ]
        }
      ]
    },
    {
      "cell_type": "code",
      "source": [
        "#4. Write a Python script that reads from one file and writes its content to another file\n",
        "\n",
        "# File names\n",
        "source_file = \"source.txt\"\n",
        "destination_file = \"destination.txt\"\n",
        "try:\n",
        "    # Open source file in read mode and destination file in write mode\n",
        "    with open(source_file, \"r\") as src, open(destination_file, \"w\") as dest:\n",
        "        # Read content from source and write to destination\n",
        "        for line in src:\n",
        "            dest.write(line)\n",
        "    print(f\"Content copied from '{source_file}' to '{destination_file}' successfully.\")\n",
        "except FileNotFoundError:\n",
        "    print(f\"Error: The file '{source_file}' does not exist.\")\n",
        "except Exception as e:\n",
        "    print(f\"An unexpected error occurred: {e}\")"
      ],
      "metadata": {
        "colab": {
          "base_uri": "https://localhost:8080/"
        },
        "id": "0qiJ1ImBvVR5",
        "outputId": "9407d238-5bde-426e-a8a8-6466fcbae2ac"
      },
      "execution_count": 14,
      "outputs": [
        {
          "output_type": "stream",
          "name": "stdout",
          "text": [
            "Error: The file 'source.txt' does not exist.\n"
          ]
        }
      ]
    },
    {
      "cell_type": "code",
      "source": [
        "#5.  How would you catch and handle division by zero error in Python\n",
        "\n",
        "try:\n",
        "    num = 10\n",
        "    denom = 0\n",
        "    result = num / denom\n",
        "    print(\"Result:\", result)\n",
        "except ZeroDivisionError:\n",
        "    print(\"Error: Cannot divide by zero.\")"
      ],
      "metadata": {
        "colab": {
          "base_uri": "https://localhost:8080/"
        },
        "id": "xrn-LYEuvcXx",
        "outputId": "246ca25a-cec0-4148-e949-28eca217f77f"
      },
      "execution_count": 15,
      "outputs": [
        {
          "output_type": "stream",
          "name": "stdout",
          "text": [
            "Error: Cannot divide by zero.\n"
          ]
        }
      ]
    },
    {
      "cell_type": "code",
      "source": [
        "#6. Write a Python program that logs an error message to a log file when a division by zero exception occurs\n",
        "\n",
        "import logging\n",
        "# Configure logging\n",
        "logging.basicConfig(\n",
        "    filename='error_log.txt',      # Log file name\n",
        "    level=logging.ERROR,           # Log level\n",
        "    format='%(asctime)s - %(levelname)s - %(message)s'\n",
        ")\n",
        "# Example division operation with exception handling\n",
        "try:\n",
        "    numerator = 10\n",
        "    denominator = 0\n",
        "    result = numerator / denominator\n",
        "    print(\"Result:\", result)\n",
        "except ZeroDivisionError as e:\n",
        "    logging.error(\"Division by zero occurred: %s\", e)\n",
        "    print(\"An error occurred. Check the log file for details.\")"
      ],
      "metadata": {
        "colab": {
          "base_uri": "https://localhost:8080/"
        },
        "id": "GG26cCyivmMw",
        "outputId": "b47b9344-b8ec-4a66-e3a6-e46d94d435ac"
      },
      "execution_count": 16,
      "outputs": [
        {
          "output_type": "stream",
          "name": "stderr",
          "text": [
            "ERROR:root:Division by zero occurred: division by zero\n"
          ]
        },
        {
          "output_type": "stream",
          "name": "stdout",
          "text": [
            "An error occurred. Check the log file for details.\n"
          ]
        }
      ]
    },
    {
      "cell_type": "code",
      "source": [
        "#7. How do you log information at different levels (INFO, ERROR, WARNING) in Python using the logging module\n",
        "\n",
        "# Configure logging\n",
        "logging.basicConfig(\n",
        "    filename='app.log',          # Log file name\n",
        "    level=logging.DEBUG,         # Minimum level to log\n",
        "    format='%(asctime)s - %(levelname)s - %(message)s'\n",
        ")\n",
        "# Log messages at different levels\n",
        "logging.debug(\"This is a DEBUG message (for development/debugging).\")\n",
        "logging.info(\"This is an INFO message (general updates).\")\n",
        "logging.warning(\"This is a WARNING message (something unexpected).\")\n",
        "logging.error(\"This is an ERROR message (a failure occurred).\")\n",
        "logging.critical(\"This is a CRITICAL message (major crash or failure).\")"
      ],
      "metadata": {
        "colab": {
          "base_uri": "https://localhost:8080/"
        },
        "id": "mJaXzH2MvsZ_",
        "outputId": "3e848134-6196-48bd-9e1d-03f558169a1f"
      },
      "execution_count": 17,
      "outputs": [
        {
          "output_type": "stream",
          "name": "stderr",
          "text": [
            "WARNING:root:This is a WARNING message (something unexpected).\n",
            "ERROR:root:This is an ERROR message (a failure occurred).\n",
            "CRITICAL:root:This is a CRITICAL message (major crash or failure).\n"
          ]
        }
      ]
    },
    {
      "cell_type": "code",
      "source": [
        "#8. Write a program to handle a file opening error using exception handling\n",
        "\n",
        "filename = \"sample.txt\"\n",
        "try:\n",
        "    with open(filename, \"r\") as file:\n",
        "        content = file.read()\n",
        "        print(content)\n",
        "except FileNotFoundError:\n",
        "    print(f\"Error: The file '{filename}' was not found.\")\n",
        "except PermissionError:\n",
        "    print(f\"Error: You do not have permission to open '{filename}'.\")\n",
        "except Exception as e:\n",
        "    print(f\"An unexpected error occurred: {e}\")"
      ],
      "metadata": {
        "colab": {
          "base_uri": "https://localhost:8080/"
        },
        "id": "fmb0ols6v8H_",
        "outputId": "4b6f4cf8-f43f-4e5f-8394-e0f8ece75fd5"
      },
      "execution_count": 18,
      "outputs": [
        {
          "output_type": "stream",
          "name": "stdout",
          "text": [
            "Error: The file 'sample.txt' was not found.\n"
          ]
        }
      ]
    },
    {
      "cell_type": "code",
      "source": [
        "#9. How can you read a file line by line and store its content in a list in Python\n",
        "\n",
        "lines = []\n",
        "with open(\"example.txt\", \"r\") as file:\n",
        "    for line in file:\n",
        "        lines.append(line.rstrip('\\n'))  # Remove trailing newline character\n",
        "print(lines)"
      ],
      "metadata": {
        "colab": {
          "base_uri": "https://localhost:8080/"
        },
        "id": "i0rNh0UFwEde",
        "outputId": "21d65973-d824-4ccd-fb69-d80068fb4163"
      },
      "execution_count": 19,
      "outputs": [
        {
          "output_type": "stream",
          "name": "stdout",
          "text": [
            "['Hello, this is a line written to the file!']\n"
          ]
        }
      ]
    },
    {
      "cell_type": "code",
      "source": [
        "#10. How can you append data to an existing file in Python\n",
        "\n",
        "with open(\"example.txt\", \"a\") as file:\n",
        "    file.write(\"This is a new line appended to the file.\\n\")"
      ],
      "metadata": {
        "id": "s7JlsR4GwOWG"
      },
      "execution_count": 21,
      "outputs": []
    },
    {
      "cell_type": "code",
      "source": [
        "#11. Write a Python program that uses a try-except block to handle an error when attempting to access a dictionary key that doesn't exist\n",
        "\n",
        "my_dict = {\"name\": \"Alice\", \"age\": 25}\n",
        "try:\n",
        "    # Attempt to access a key that might not exist\n",
        "    value = my_dict[\"address\"]\n",
        "    print(\"Address:\", value)\n",
        "except KeyError:\n",
        "    print(\"Error: The key 'address' does not exist in the dictionary.\")"
      ],
      "metadata": {
        "colab": {
          "base_uri": "https://localhost:8080/"
        },
        "id": "eqdOw_3HwtTl",
        "outputId": "9aa6b80e-6ffe-41cd-ed54-6b52dec80233"
      },
      "execution_count": 22,
      "outputs": [
        {
          "output_type": "stream",
          "name": "stdout",
          "text": [
            "Error: The key 'address' does not exist in the dictionary.\n"
          ]
        }
      ]
    },
    {
      "cell_type": "code",
      "source": [
        "#12. Write a program that demonstrates using multiple except blocks to handle different types of exceptions\n",
        "\n",
        "try:\n",
        "    # Input from user\n",
        "    num1 = int(input(\"Enter the first number: \"))\n",
        "    num2 = int(input(\"Enter the second number: \"))\n",
        "    result = num1 / num2\n",
        "    print(f\"Result of division: {result}\")\n",
        "except ValueError:\n",
        "    print(\"Error: Please enter valid integer numbers.\")\n",
        "except ZeroDivisionError:\n",
        "    print(\"Error: Division by zero is not allowed.\")\n",
        "except Exception as e:\n",
        "    print(f\"An unexpected error occurred: {e}\")"
      ],
      "metadata": {
        "colab": {
          "base_uri": "https://localhost:8080/"
        },
        "id": "UjP6FcH7w5dM",
        "outputId": "3397a1ec-f1a8-47a4-e4e1-4fb8beb6755f"
      },
      "execution_count": 24,
      "outputs": [
        {
          "output_type": "stream",
          "name": "stdout",
          "text": [
            "Enter the first number: 12\n",
            "Enter the second number: 3\n",
            "Result of division: 4.0\n"
          ]
        }
      ]
    },
    {
      "cell_type": "code",
      "source": [
        "#13. How would you check if a file exists before attempting to read it in Python\n",
        "\n",
        "#Using os.path.exists():\n",
        "import os\n",
        "filename = \"example.txt\"\n",
        "if os.path.exists(filename):\n",
        "    with open(filename, \"r\") as file:\n",
        "        content = file.read()\n",
        "        print(content)\n",
        "else:\n",
        "    print(f\"The file '{filename}' does not exist.\")"
      ],
      "metadata": {
        "colab": {
          "base_uri": "https://localhost:8080/"
        },
        "id": "bFYJIwVkxAYr",
        "outputId": "f1ca6c47-a52a-4fae-da08-0e6587c4063b"
      },
      "execution_count": 26,
      "outputs": [
        {
          "output_type": "stream",
          "name": "stdout",
          "text": [
            "Hello, this is a line written to the file!This line will be appended.\n",
            "This is a new line appended to the file.\n",
            "\n"
          ]
        }
      ]
    },
    {
      "cell_type": "code",
      "source": [
        "#Using pathlib.Path.exists() (Python 3.4+):\n",
        "from pathlib import Path\n",
        "\n",
        "file_path = Path(\"example.txt\")\n",
        "\n",
        "if file_path.exists():\n",
        "    with open(file_path, \"r\") as file:\n",
        "        content = file.read()\n",
        "        print(content)\n",
        "else:\n",
        "    print(f\"The file '{file_path}' does not exist.\")"
      ],
      "metadata": {
        "colab": {
          "base_uri": "https://localhost:8080/"
        },
        "id": "rF2IHpNaxLaz",
        "outputId": "355bdde5-60ff-4145-d850-19ddba03bb33"
      },
      "execution_count": 27,
      "outputs": [
        {
          "output_type": "stream",
          "name": "stdout",
          "text": [
            "Hello, this is a line written to the file!This line will be appended.\n",
            "This is a new line appended to the file.\n",
            "\n"
          ]
        }
      ]
    },
    {
      "cell_type": "code",
      "source": [
        "#14. Write a program that uses the logging module to log both informational and error messages\n",
        "\n",
        "# Configure logging\n",
        "logging.basicConfig(\n",
        "    filename='app.log',\n",
        "    level=logging.DEBUG,  # Log all levels DEBUG and above\n",
        "    format='%(asctime)s - %(levelname)s - %(message)s'\n",
        ")\n",
        "# Log an informational message\n",
        "logging.info(\"This is an informational message.\")\n",
        "try:\n",
        "    # Some operation that may cause an error\n",
        "    result = 10 / 0\n",
        "except ZeroDivisionError:\n",
        "    logging.error(\"Error: Division by zero occurred.\")"
      ],
      "metadata": {
        "colab": {
          "base_uri": "https://localhost:8080/"
        },
        "id": "skO60bXmxQjr",
        "outputId": "f5e8b6c3-a546-49f1-e23e-192f4c95f3a4"
      },
      "execution_count": 28,
      "outputs": [
        {
          "output_type": "stream",
          "name": "stderr",
          "text": [
            "ERROR:root:Error: Division by zero occurred.\n"
          ]
        }
      ]
    },
    {
      "cell_type": "code",
      "source": [
        "#15. Write a Python program that prints the content of a file and handles the case when the file is empty\n",
        "\n",
        "filename = \"example.txt\"\n",
        "try:\n",
        "    with open(filename, \"r\") as file:\n",
        "        content = file.read()\n",
        "        if content:\n",
        "            print(\"File content:\")\n",
        "            print(content)\n",
        "        else:\n",
        "            print(\"The file is empty.\")\n",
        "except FileNotFoundError:\n",
        "    print(f\"Error: The file '{filename}' does not exist.\")"
      ],
      "metadata": {
        "colab": {
          "base_uri": "https://localhost:8080/"
        },
        "id": "Yo2U1qPUxYg6",
        "outputId": "18b21b15-337c-4715-96a3-3f7c5037e185"
      },
      "execution_count": 31,
      "outputs": [
        {
          "output_type": "stream",
          "name": "stdout",
          "text": [
            "File content:\n",
            "Hello, this is a line written to the file!This line will be appended.\n",
            "This is a new line appended to the file.\n",
            "\n"
          ]
        }
      ]
    },
    {
      "cell_type": "code",
      "source": [
        "#16.  Demonstrate how to use memory profiling to check the memory usage of a small program\n",
        "\n",
        "from memory_profiler import profile\n",
        "@profile\n",
        "def my_function():\n",
        "    a = [i for i in range(100000)]  # Create a large list\n",
        "    b = [i * 2 for i in a]\n",
        "    return b\n",
        "\n",
        "if __name__ == \"__main__\":\n",
        "    my_function()"
      ],
      "metadata": {
        "colab": {
          "base_uri": "https://localhost:8080/"
        },
        "id": "gefdwloexfQi",
        "outputId": "704cd8d2-e84d-416c-ef93-79a2a783fd9b"
      },
      "execution_count": 38,
      "outputs": [
        {
          "output_type": "stream",
          "name": "stdout",
          "text": [
            "ERROR: Could not find file <ipython-input-38-72c9414b52b2>\n",
            "NOTE: %mprun can only be used on functions defined in physical files, and not in the IPython environment.\n"
          ]
        }
      ]
    },
    {
      "cell_type": "code",
      "source": [
        "#17. Write a Python program to create and write a list of numbers to a file, one number per line\n",
        "\n",
        "numbers = [10, 20, 30, 40, 50]\n",
        "with open(\"numbers.txt\", \"w\") as file:\n",
        "    for number in numbers:\n",
        "        file.write(f\"{number}\\n\")"
      ],
      "metadata": {
        "id": "2TCVARKryD9A"
      },
      "execution_count": 39,
      "outputs": []
    },
    {
      "cell_type": "code",
      "source": [
        "#18. How would you implement a basic logging setup that logs to a file with rotation after 1MB\n",
        "\n",
        "from logging.handlers import RotatingFileHandler\n",
        "# Create logger\n",
        "logger = logging.getLogger(\"MyLogger\")\n",
        "logger.setLevel(logging.DEBUG)  # Log all levels DEBUG and above\n",
        "# Create a rotating file handler\n",
        "handler = RotatingFileHandler(\n",
        "    \"app.log\", maxBytes=1_000_000, backupCount=3  # 1MB max per file, keep 3 backups\n",
        ")\n",
        "formatter = logging.Formatter('%(asctime)s - %(levelname)s - %(message)s')\n",
        "handler.setFormatter(formatter)\n",
        "# Add handler to logger\n",
        "logger.addHandler(handler)\n",
        "# Example log messages\n",
        "logger.info(\"This is an info message.\")\n",
        "logger.error(\"This is an error message.\")"
      ],
      "metadata": {
        "colab": {
          "base_uri": "https://localhost:8080/"
        },
        "id": "R_V-bNvMyVv_",
        "outputId": "b2a75b54-e0cc-4e35-901d-75485b8df893"
      },
      "execution_count": 40,
      "outputs": [
        {
          "output_type": "stream",
          "name": "stderr",
          "text": [
            "INFO:MyLogger:This is an info message.\n",
            "ERROR:MyLogger:This is an error message.\n"
          ]
        }
      ]
    },
    {
      "cell_type": "code",
      "source": [
        "#19. Write a program that handles both IndexError and KeyError using a try-except block\n",
        "\n",
        "my_list = [10, 20, 30]\n",
        "my_dict = {\"name\": \"Alice\", \"age\": 25}\n",
        "try:\n",
        "    # Attempt to access an index that may not exist\n",
        "    print(my_list[5])\n",
        "    # Attempt to access a key that may not exist\n",
        "    print(my_dict[\"address\"])\n",
        "except IndexError:\n",
        "    print(\"Error: List index is out of range.\")\n",
        "except KeyError:\n",
        "    print(\"Error: Dictionary key not found.\")"
      ],
      "metadata": {
        "colab": {
          "base_uri": "https://localhost:8080/"
        },
        "id": "BfS8rRcMyjnX",
        "outputId": "78d3af64-53c6-473c-c13e-467f1843c8db"
      },
      "execution_count": 41,
      "outputs": [
        {
          "output_type": "stream",
          "name": "stdout",
          "text": [
            "Error: List index is out of range.\n"
          ]
        }
      ]
    },
    {
      "cell_type": "code",
      "source": [
        "#20. How would you open a file and read its contents using a context manager in Python\n",
        "\n",
        "filename = \"example.txt\"\n",
        "with open(filename, \"r\") as file:\n",
        "    content = file.read()\n",
        "print(content)"
      ],
      "metadata": {
        "colab": {
          "base_uri": "https://localhost:8080/"
        },
        "id": "TzCxylyAyqPH",
        "outputId": "8d40ecd2-15d8-47d7-f938-315583e10bcc"
      },
      "execution_count": 42,
      "outputs": [
        {
          "output_type": "stream",
          "name": "stdout",
          "text": [
            "Hello, this is a line written to the file!This line will be appended.\n",
            "This is a new line appended to the file.\n",
            "\n"
          ]
        }
      ]
    },
    {
      "cell_type": "code",
      "source": [
        "#21.  Write a Python program that reads a file and prints the number of occurrences of a specific word\n",
        "\n",
        "def count_word_occurrences(filename, word):\n",
        "    try:\n",
        "        with open(filename, \"r\") as file:\n",
        "            content = file.read().lower()\n",
        "        word = word.lower()\n",
        "        count = content.split().count(word)\n",
        "        print(f\"The word '{word}' occurs {count} times in the file.\")\n",
        "    except FileNotFoundError:\n",
        "        print(f\"Error: The file '{filename}' does not exist.\")\n",
        "# Example usage\n",
        "count_word_occurrences(\"example.txt\", \"Python\")"
      ],
      "metadata": {
        "colab": {
          "base_uri": "https://localhost:8080/"
        },
        "id": "W9zTLANAyxT2",
        "outputId": "4dd94c07-b1f3-41c1-eda3-ee8a69b9b606"
      },
      "execution_count": 43,
      "outputs": [
        {
          "output_type": "stream",
          "name": "stdout",
          "text": [
            "The word 'python' occurs 0 times in the file.\n"
          ]
        }
      ]
    },
    {
      "cell_type": "code",
      "source": [
        "#22. How can you check if a file is empty before attempting to read its contents\n",
        "\n",
        "filename = \"example.txt\"\n",
        "if os.path.exists(filename):\n",
        "    if os.path.getsize(filename) > 0:\n",
        "        with open(filename, \"r\") as file:\n",
        "            content = file.read()\n",
        "            print(content)\n",
        "    else:\n",
        "        print(\"The file is empty.\")\n",
        "else:\n",
        "    print(f\"The file '{filename}' does not exist.\")"
      ],
      "metadata": {
        "colab": {
          "base_uri": "https://localhost:8080/"
        },
        "id": "saIfeYhey3IO",
        "outputId": "dbb8d0c0-2455-4ac4-aa21-fab014bb4c6c"
      },
      "execution_count": 44,
      "outputs": [
        {
          "output_type": "stream",
          "name": "stdout",
          "text": [
            "Hello, this is a line written to the file!This line will be appended.\n",
            "This is a new line appended to the file.\n",
            "\n"
          ]
        }
      ]
    },
    {
      "cell_type": "code",
      "source": [
        "#23. Write a Python program that writes to a log file when an error occurs during file handling\n",
        "\n",
        "# Configure logging to write errors to 'error.log'\n",
        "logging.basicConfig(\n",
        "    filename='error.log',\n",
        "    level=logging.ERROR,\n",
        "    format='%(asctime)s - %(levelname)s - %(message)s'\n",
        ")\n",
        "filename = \"nonexistent_file.txt\"\n",
        "try:\n",
        "    with open(filename, \"r\") as file:\n",
        "        content = file.read()\n",
        "        print(content)\n",
        "except Exception as e:\n",
        "    logging.error(f\"Error occurred while handling the file '{filename}': {e}\")\n",
        "    print(\"An error occurred. Check error.log for details.\")"
      ],
      "metadata": {
        "colab": {
          "base_uri": "https://localhost:8080/"
        },
        "id": "L_-QCBG1y-gF",
        "outputId": "9d589355-4688-4586-dbe8-a9a4849bf459"
      },
      "execution_count": 45,
      "outputs": [
        {
          "output_type": "stream",
          "name": "stderr",
          "text": [
            "ERROR:root:Error occurred while handling the file 'nonexistent_file.txt': [Errno 2] No such file or directory: 'nonexistent_file.txt'\n"
          ]
        },
        {
          "output_type": "stream",
          "name": "stdout",
          "text": [
            "An error occurred. Check error.log for details.\n"
          ]
        }
      ]
    },
    {
      "cell_type": "code",
      "source": [],
      "metadata": {
        "id": "cDPxxG_7zFsF"
      },
      "execution_count": null,
      "outputs": []
    }
  ]
}